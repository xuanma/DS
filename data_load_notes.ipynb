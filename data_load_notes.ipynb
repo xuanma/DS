{
 "cells": [
  {
   "cell_type": "markdown",
   "id": "57aceef3",
   "metadata": {},
   "source": [
    "### General idea"
   ]
  },
  {
   "cell_type": "markdown",
   "id": "318d05ee",
   "metadata": {},
   "source": [
    "The neural signals, as well as forces, cursors and trial information (time for trial start, gocue, trial end, target directions, target results) during experiments, were saved by Cerebus system in .nev files. These .nev files could be loaded by the `xds` structure in both MATLAB and Python. During the brain control blocks, the binned spikes and the predicted cursor trajectories were saved in `.txt` files. As we noticed before, the cursor trajectories saved in the .nev file may not be accurate, so we would trust the cursors saved in the `.txt` files more. The codes below demonstrate how to load the data in the `.txt` files and extract trial information from the corresponding `xds` files."
   ]
  },
  {
   "cell_type": "markdown",
   "id": "c2cd51cd",
   "metadata": {},
   "source": [
    "#### Add xds to your Python path"
   ]
  },
  {
   "cell_type": "code",
   "execution_count": 1,
   "id": "ccf157f0",
   "metadata": {},
   "outputs": [],
   "source": [
    "import sys\n",
    "sys.path.append('d:/onedrive/codes/xds/')"
   ]
  },
  {
   "cell_type": "markdown",
   "id": "91d6f28f",
   "metadata": {},
   "source": [
    "#### Functions"
   ]
  },
  {
   "cell_type": "code",
   "execution_count": 2,
   "id": "94c53863",
   "metadata": {},
   "outputs": [],
   "source": [
    "import numpy as np\n",
    "from xds import lab_data\n",
    "import os, fnmatch\n",
    "\n",
    "def get_trial_data_from_txt(base_path, xds_file, spike_file, cursor_file, time_params, bin_size = 0.05):\n",
    "    \"\"\"\n",
    "    This function is designed to load data from paired xds and txt files.\n",
    "    \n",
    "    INPUTS:\n",
    "    base_path: a string, specifying the path to the data files.\n",
    "    xds_file: a string, the file name of the xds file to be loaded.\n",
    "    spike_file: a string, the file name of the spike txt file to be loaded.\n",
    "    cursor_file: a string, the file name of the cursor txt file to be loaded.\n",
    "    time_params: a dictionary, see the example below.\n",
    "    bin_size: a number specifying the bin size, should be 0.05 for all the monkey data used in this study\n",
    "    \n",
    "    OUTPUTS:\n",
    "    A dictionary containing all the necessary. The names of the fields are self-explanatory. The data type of each field\n",
    "    is either numpy array or list.\n",
    "    \"\"\"\n",
    "    def adjust_idx_len(a, c):\n",
    "        if c != 0:\n",
    "            if len(a)>c:\n",
    "                a = a[:c]\n",
    "            elif len(a)<c:\n",
    "                a = np.append(a, np.arange(a[-1]+1, a[-1]+c-len(a)+1))\n",
    "        return a\n",
    "    \n",
    "    # ------- Read the xds file to get the trial information -------- #\n",
    "    if base_path[-1] != '/':\n",
    "        base_path = base_path + '/'\n",
    "    dataset = lab_data(base_path + 'xds/', xds_file)\n",
    "    common_len = 0 # In some cases the length may have slightly different, this variable is for correction\n",
    "    \n",
    "    # ------- Find out trial information ------ #\n",
    "    trial_result = dataset.trial_result\n",
    "    trial_target_dir = dataset.trial_target_dir\n",
    "    trial_start_time = dataset.trial_start_time\n",
    "    trial_gocue_time = dataset.trial_gocue_time\n",
    "    trial_end_time = dataset.trial_end_time\n",
    "    trial_target_corners = dataset.trial_target_corners\n",
    "    \n",
    "    # -------- Get rid of trials with gocue time nan -------- #\n",
    "    gocue_nan_idx = np.argwhere(np.isnan(trial_gocue_time))[:,0]\n",
    "    start_nan_idx = np.argwhere(np.isnan(trial_start_time))[:,0]\n",
    "    end_nan_idx = np.argwhere(np.isnan(trial_end_time))[:,0]\n",
    "    union_nan_idx = np.asarray(sorted(list(set(gocue_nan_idx).union(set(start_nan_idx)).union(set(end_nan_idx))),\n",
    "                                      reverse = True))\n",
    "    if len(union_nan_idx)>0:\n",
    "        trial_gocue_time = np.delete(trial_gocue_time, union_nan_idx)\n",
    "        trial_start_time = np.delete(trial_start_time, union_nan_idx)\n",
    "        trial_end_time = np.delete(trial_end_time, union_nan_idx)\n",
    "        trial_result = np.delete(trial_result, union_nan_idx)\n",
    "        trial_target_dir = np.delete(trial_target_dir, union_nan_idx)\n",
    "        trial_target_corners = np.delete(trial_target_corners, union_nan_idx, axis = 0)\n",
    "    \n",
    "    # ------- Find out the behavior time stamps ------ #\n",
    "    if time_params['start_event'] == 'gocue_time':\n",
    "        t1 = trial_gocue_time-time_params['time_before_start']\n",
    "    elif time_params['start_event'] == 'start_time':\n",
    "        t1 = trial_start_time-time_params['time_before_start']\n",
    "    elif time_params['start_event'] == 'end_time':\n",
    "        t1 = trial_end_time-time_params['time_before_start']\n",
    "\n",
    "    if time_params['end_event'] == 'gocue_time':\n",
    "        t2 = trial_gocue_time+time_params['time_after_end']\n",
    "    elif time_params['end_event'] == 'start_time':\n",
    "        t2 = trial_start_time+time_params['time_after_end']\n",
    "    elif time_params['end_event'] == 'end_time':\n",
    "        t2 = trial_end_time+time_params['time_after_end']  \n",
    "    \n",
    "    if time_params['start_event'] == time_params['end_event']:\n",
    "        common_len = int(np.ceil((time_params['time_before_start']+time_params['time_after_end'])/bin_size))\n",
    "    \n",
    "    # ------- Read the txt files for data storage ------ #\n",
    "    spike_time = np.loadtxt(base_path + 'spike txt/' + spike_file)[:, 0]\n",
    "    spike_counts = np.loadtxt(base_path + 'spike txt/' + spike_file)[:, 1:]*bin_size\n",
    "    \n",
    "    cursor_time = np.loadtxt(base_path + 'cursor txt/' + cursor_file)[:, 0]\n",
    "    cursor = np.loadtxt(base_path + 'cursor txt/' + cursor_file)[:, 1:]\n",
    "    \n",
    "    bad_trial_idx = [] # In the .txt file, sometimes there may be missing time points. This variable record the index of these trials\n",
    "    trial_spike, trial_cursor, trial_emgpreds = [], [], []\n",
    "    for i, t in enumerate(zip(t1, t2)):        \n",
    "        idx = np.where((spike_time>t[0])&(spike_time<=t[1]))[0]\n",
    "        idx = adjust_idx_len(idx, common_len)\n",
    "        dt = np.diff(spike_time[idx])\n",
    "        if len(np.where(dt>2*0.05)[0])>0:\n",
    "            bad_trial_idx.append(i) # Record the bad trials here, and delete them post-hoc\n",
    "        trial_spike.append(spike_counts[idx, :])\n",
    "        idx = np.where((cursor_time>t[0])&(cursor_time<t[1]))[0]\n",
    "        idx = adjust_idx_len(idx, common_len)\n",
    "        trial_cursor.append(cursor[idx, :])\n",
    "    \n",
    "    bad_trial_idx = np.asarray(sorted(bad_trial_idx, reverse = True))\n",
    "    if len(bad_trial_idx)>0:\n",
    "        trial_gocue_time = np.delete(trial_gocue_time, bad_trial_idx)\n",
    "        trial_start_time = np.delete(trial_start_time, bad_trial_idx)\n",
    "        trial_end_time = np.delete(trial_end_time, bad_trial_idx)\n",
    "        trial_result = np.delete(trial_result, bad_trial_idx)\n",
    "        trial_target_dir = np.delete(trial_target_dir, bad_trial_idx)\n",
    "        trial_target_corners = np.delete(trial_target_corners, bad_trial_idx, axis = 0)\n",
    "\n",
    "    for idx in bad_trial_idx:\n",
    "        del(trial_spike[idx])\n",
    "        del(trial_cursor[idx])\n",
    "    del(dataset)\n",
    "    return{\n",
    "        'result': trial_result,\n",
    "        'target_dir': trial_target_dir,\n",
    "        'spike': trial_spike,\n",
    "        'cursorpos': [each[:, :2] for each in trial_cursor],\n",
    "        'cursorvel': [each[:, 2:] for each in trial_cursor],\n",
    "        'start_time':trial_start_time,\n",
    "        'gocue_time': trial_gocue_time,\n",
    "        'end_time': trial_end_time,\n",
    "        'target_corners': [list(each) for each in trial_target_corners]\n",
    "        }"
   ]
  },
  {
   "cell_type": "markdown",
   "id": "c221620b",
   "metadata": {},
   "source": [
    "#### An example of using the function above"
   ]
  },
  {
   "cell_type": "markdown",
   "id": "61b3523e",
   "metadata": {},
   "source": [
    "There are many files in one experiment, and they should be saved under the `base_path`. Fist, we scan all the files under the `base_path`, and put the file names in three lists according to their type. After this, we print them out and take a double check at the time stamp in the file names. The files from the same brain control testing block should have the same time stamp.\n",
    "\n",
    "At the same time, we use a list named `decoder_type` to store the type of the brain control decoder used in each block."
   ]
  },
  {
   "cell_type": "code",
   "execution_count": 3,
   "id": "d10ca16a",
   "metadata": {},
   "outputs": [
    {
     "name": "stdout",
     "output_type": "stream",
     "text": [
      "Double check the timestamp in file names to see if they are correctly paired\n",
      "=========================================================\n",
      "20240110_1415_Tot_WS_002.mat\n",
      "Tot_20240110_1415_WS_Spikes.txt\n",
      "Tot_20240110_1415_WS_MultiNomial_RewardCursor.txt\n",
      "=========================================================\n",
      "20240110_1419_Tot_WS_003.mat\n",
      "Tot_20240110_1419_WS_Spikes.txt\n",
      "Tot_20240110_1419_WS_WienerCursor.txt\n",
      "=========================================================\n",
      "20240110_1422_Tot_WS_004.mat\n",
      "Tot_20240110_1422_WS_Spikes.txt\n",
      "Tot_20240110_1422_WS_MultiNomial_RewardCursor.txt\n",
      "=========================================================\n",
      "20240110_1426_Tot_WS_005.mat\n",
      "Tot_20240110_1426_WS_Spikes.txt\n",
      "Tot_20240110_1426_WS_WienerCursor.txt\n",
      "=========================================================\n",
      "20240110_1429_Tot_WS_006.mat\n",
      "Tot_20240110_1429_WS_Spikes.txt\n",
      "Tot_20240110_1429_WS_MultiNomial_RewardCursor.txt\n",
      "=========================================================\n",
      "20240110_1433_Tot_WS_007.mat\n",
      "Tot_20240110_1433_WS_Spikes.txt\n",
      "Tot_20240110_1433_WS_WienerCursor.txt\n",
      "=========================================================\n",
      "20240110_1437_Tot_WS_008.mat\n",
      "Tot_20240110_1437_WS_Spikes.txt\n",
      "Tot_20240110_1437_WS_MultiNomial_RewardCursor.txt\n",
      "=========================================================\n",
      "20240110_1440_Tot_WS_009.mat\n",
      "Tot_20240110_1440_WS_Spikes.txt\n",
      "Tot_20240110_1440_WS_WienerCursor.txt\n",
      "=========================================================\n",
      "20240110_1444_Tot_WS_010.mat\n",
      "Tot_20240110_1444_WS_Spikes.txt\n",
      "Tot_20240110_1444_WS_MultiNomial_RewardCursor.txt\n",
      "=========================================================\n",
      "20240110_1448_Tot_WS_011.mat\n",
      "Tot_20240110_1448_WS_Spikes.txt\n",
      "Tot_20240110_1448_WS_WienerCursor.txt\n",
      "=========================================================\n",
      "20240110_1451_Tot_WS_012.mat\n",
      "Tot_20240110_1451_WS_Spikes.txt\n",
      "Tot_20240110_1451_WS_MultiNomial_RewardCursor.txt\n",
      "=========================================================\n",
      "20240110_1455_Tot_WS_013.mat\n",
      "Tot_20240110_1455_WS_Spikes.txt\n",
      "Tot_20240110_1455_WS_WienerCursor.txt\n",
      "\n",
      "==============The type of the decoder used===============\n",
      "['DS', 'WF', 'DS', 'WF', 'DS', 'WF', 'DS', 'WF', 'DS', 'WF', 'DS', 'WF']\n"
     ]
    }
   ],
   "source": [
    "base_path = 'F:/DS/20240110/brain control files/'\n",
    "xds_list = np.sort(fnmatch.filter(os.listdir(base_path + 'xds/'), \"*.mat\"))\n",
    "spike_txt_list = np.sort(fnmatch.filter(os.listdir(base_path + 'spike txt/'), \"*.txt\"))\n",
    "cursor_txt_list = np.sort(fnmatch.filter(os.listdir(base_path + 'cursor txt/'), \"*.txt\"))\n",
    "\"\"\"\n",
    "With the use of np.sort and fnmatch the file names were sort according to the time stamp in the file name strings\n",
    "\"\"\"\n",
    "decoder_type = []\n",
    "\n",
    "print('Double check the timestamp in file names to see if they are correctly paired')\n",
    "for i in range(len(xds_list)):\n",
    "    print('=========================================================')\n",
    "    print(xds_list[i])\n",
    "    print(spike_txt_list[i])\n",
    "    print(cursor_txt_list[i])\n",
    "    if 'Wiener' in cursor_txt_list[i]:\n",
    "        decoder_type.append('WF')\n",
    "    elif 'MultiNomial' in cursor_txt_list[i]:\n",
    "        decoder_type.append('DS')\n",
    "print('')\n",
    "print('==============The type of the decoder used===============')\n",
    "print(decoder_type)"
   ]
  },
  {
   "cell_type": "markdown",
   "id": "053a52e3",
   "metadata": {},
   "source": [
    "Now everythin is ready so we can load the data from one testing block. The variable `BLOCK_NUM` specifies which block we want to look at. The dictionary `time_params` specifies the time period we are interested in each trial. "
   ]
  },
  {
   "cell_type": "code",
   "execution_count": 7,
   "id": "9cacb57a",
   "metadata": {},
   "outputs": [
    {
     "name": "stdout",
     "output_type": "stream",
     "text": [
      "Trials with nan timings have been removed!\n"
     ]
    }
   ],
   "source": [
    "BLOCK_NUM = 2\n",
    "time_params = {'start_event': 'gocue_time', 'time_before_start': 0.0, \n",
    "                        'end_event': 'end_time', 'time_after_end': 0}\n",
    "trial_data = get_trial_data_from_txt(base_path, xds_list[BLOCK_NUM], spike_txt_list[BLOCK_NUM], cursor_txt_list[BLOCK_NUM], \n",
    "                                 time_params, bin_size = 0.05)"
   ]
  },
  {
   "cell_type": "markdown",
   "id": "3af6e47c",
   "metadata": {},
   "source": [
    "#### Extracting the target corners for plotting"
   ]
  },
  {
   "cell_type": "markdown",
   "id": "534b63aa",
   "metadata": {},
   "source": [
    "Since there are only 8 targets in the experiments, here we extract the coordinates of them first."
   ]
  },
  {
   "cell_type": "code",
   "execution_count": 8,
   "id": "24565f4d",
   "metadata": {},
   "outputs": [],
   "source": [
    "target_corners = []\n",
    "for each in trial_data['target_corners']:\n",
    "    if each in target_corners:\n",
    "        continue\n",
    "    else:\n",
    "        target_corners.append(each)\n",
    "    if len(target_corners)>8:\n",
    "        break"
   ]
  },
  {
   "cell_type": "markdown",
   "id": "42a59c38",
   "metadata": {},
   "source": [
    "Here let's plot the cursor trajectories using the data extracted above. Please check the `NOTE` in the comments to avoid potential troubles due to data corruption."
   ]
  },
  {
   "cell_type": "code",
   "execution_count": 9,
   "id": "b9c169da",
   "metadata": {},
   "outputs": [
    {
     "data": {
      "text/plain": [
       "(-12.0, 12.0, -12.0, 12.0)"
      ]
     },
     "execution_count": 9,
     "metadata": {},
     "output_type": "execute_result"
    },
    {
     "data": {
      "image/png": "[encoded data removed]",
      "text/plain": [
       "<Figure size 360x360 with 1 Axes>"
      ]
     },
     "metadata": {
      "needs_background": "light"
     },
     "output_type": "display_data"
    }
   ],
   "source": [
    "import matplotlib.pyplot as plt\n",
    "import seaborn as sns\n",
    "import matplotlib\n",
    "import matplotlib.patches as patches\n",
    "\n",
    "idx = np.where(trial_data['result']=='R')[0] # the indices for all successful trials in one testing block \n",
    "target_dir_list = [-135, -90, -45, 0, 45, 90, 135, 180]# a predefined list for the directions of the targets\n",
    "cm = plt.get_cmap('tab10')\n",
    "\n",
    "fig = plt.figure('mn suc', figsize = (5, 5))\n",
    "ax = plt.subplot(111)\n",
    "for each in idx:\n",
    "    try:\n",
    "        color_index = target_dir_list.index(trial_data['target_dir'][each])\n",
    "        # NOTE: sometimes the trial_data['target_dir'] may contain an invalid value and may cause troubles.\n",
    "        # By this exception handling we can skip such troubles.\n",
    "        c = cm(color_index)\n",
    "    except Exception:\n",
    "        continue\n",
    "    plt.plot(trial_data['cursorpos'][each][:, 0], trial_data['cursorpos'][each][:, 1], color = c)\n",
    "    plt.scatter(trial_data['cursorpos'][each][-1, 0], trial_data['cursorpos'][each][-1, 1], color = 'k', s = 10)\n",
    "\n",
    "for each in target_corners:\n",
    "    x1,y1,x2,y2 = each[0], each[1], each[2], each[3]\n",
    "    ax.add_patch(patches.Rectangle((x1,y1), x2 - x1, y2 - y1, linewidth=2,edgecolor='k',facecolor='none'))\n",
    "    \n",
    "plt.ylim([-12, 12])\n",
    "plt.xlim([-12, 12])\n",
    "plt.axis('off')\n"
   ]
  }
 ],
 "metadata": {
  "kernelspec": {
   "display_name": "Python 3 (ipykernel)",
   "language": "python",
   "name": "python3"
  },
  "language_info": {
   "codemirror_mode": {
    "name": "ipython",
    "version": 3
   },
   "file_extension": ".py",
   "mimetype": "text/x-python",
   "name": "python",
   "nbconvert_exporter": "python",
   "pygments_lexer": "ipython3",
   "version": "3.7.13"
  }
 },
 "nbformat": 4,
 "nbformat_minor": 5
}
